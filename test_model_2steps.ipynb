# Threshold coefficient gamma based on SNR (bias & std)
def find_gamma(snr, bias, std):
    """
    Find the threshold coefficient gamma based on the nearest bias and std for a given SNR.

    Parameters:
        snr (int): Signal-to-Noise Ratio (SNR) in dB (2, 4, 6, or 8).
        bias (int): Bias value in ms.
        std (int): Standard deviation value in ms.

    Returns:
        float: Threshold coefficient gamma.
    """
    table = {
        2: [(-18, 45), (-37, 29), (-39, 26), (-58, 24), (-69, 29), (-80, 37), (-95, 53)],
        4: [(-8, 45), (-24, 27), (-22, 22), (-42, 24), (-51, 24), (-60, 30), (-68, 25)],
        6: [(1, 46), (-15, 22), (-12, 25), (-28, 24), (-35, 24), (-42, 23), (-50, 25)],
        8: [(4, 37), (-8, 19), (-3, 17), (-17, 19), (-22, 21), (-28, 23), (-33, 25)],
    }
    gammas = [1.2, 1.4, 1.6, 1.8, 2.0, 2.2, 2.4]

    if snr not in table:
        raise ValueError("Invalid SNR value. Choose from 2, 4, 6, or 8.")

    nearest_index = min(
        range(len(table[snr])),
        key=lambda i: abs(table[snr][i][0] - bias) + abs(table[snr][i][1] - std),
    )
    return gammas[nearest_index]