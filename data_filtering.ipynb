{
 "cells": [
  {
   "cell_type": "code",
   "execution_count": null,
   "id": "3ea83a32",
   "metadata": {},
   "outputs": [],
   "source": [
    "import numpy as np\n",
    "import pandas as pd\n",
    "import scipy.io as sio # for loading MATLAB files\n",
    "import matplotlib.pyplot as plt\n",
    "import seaborn as sns\n",
    "sns.set() #sets the matplotlib style to seaborn style\n",
    "\n",
    "from scipy.io import loadmat \n",
    "from scipy.ndimage import convolve1d\n",
    "from scipy.signal import butter, filtfilt, iirnotch, sosfiltfilt, welch\n",
    "\n",
    "import os"
   ]
  },
  {
   "cell_type": "code",
   "execution_count": null,
   "id": "080a6f3c",
   "metadata": {},
   "outputs": [],
   "source": [
    "raw_data_path = 'data/pers_data/raw/' # path to raw data\n",
    "processed_data_path = 'data/pers_data/cleaned/' # path to processed data\n",
    "\n",
    "# Create directories if they do not exist\n",
    "os.makedirs(raw_data_path, exist_ok=True)\n",
    "os.makedirs(processed_data_path, exist_ok=True)"
   ]
  },
  {
   "cell_type": "code",
   "execution_count": null,
   "id": "bb181622",
   "metadata": {},
   "outputs": [],
   "source": [
    "for root, d_names, f_names in os.walk(raw_data_path):\n",
    "    print('File names:', f_names)"
   ]
  },
  {
   "cell_type": "code",
   "execution_count": null,
   "id": "09b7a249",
   "metadata": {},
   "outputs": [],
   "source": [
    "for file in f_names:\n",
    "    raw_data = pd.read_csv(raw_data_path + file)\n",
    "    print(raw_data.head())"
   ]
  },
  {
   "cell_type": "code",
   "execution_count": null,
   "id": "c2e8da71",
   "metadata": {},
   "outputs": [],
   "source": [
    "def hampel_filter(series, window_size=3, n_sigmas=3):\n",
    "    \"\"\"Applies Hampel filter to a 1D pandas Series.\"\"\"\n",
    "    L = 1.4826  # scale factor for Gaussian distribution\n",
    "    rolling_median = series.rolling(window=2 * window_size + 1, center=True).median()\n",
    "    diff = np.abs(series - rolling_median)\n",
    "    mad = L * diff.rolling(window=2 * window_size + 1, center=True).median()\n",
    "    \n",
    "    # Identify outliers\n",
    "    outlier_idx = diff > n_sigmas * mad\n",
    "    filtered = series.copy()\n",
    "    filtered[outlier_idx] = rolling_median[outlier_idx]\n",
    "    return filtered"
   ]
  },
  {
   "cell_type": "code",
   "execution_count": null,
   "id": "35250be6",
   "metadata": {},
   "outputs": [],
   "source": [
    "def clean_data(raw_data):\n",
    "    cleaned_data = raw_data.copy()\n",
    "    \n",
    "    # Remove the first row\n",
    "    cleaned_data = cleaned_data.drop(index=0)\n",
    "\n",
    "    # Number of channels\n",
    "    num_channels = 2\n",
    "\n",
    "    # Compute the average sampling frequency and jitter\n",
    "    sampling_freq = 1 / np.mean(np.diff(cleaned_data[\"Timestamp\"]))\n",
    "    jitter = np.mean(np.diff(cleaned_data[\"Timestamp\"]))\n",
    "    print(f\"Sampling Frequency: {sampling_freq} Hz\")\n",
    "    print(f\"Jitter: {jitter} seconds\")\n",
    "\n",
    "    # # Resample the data to a fixed sampling frequency (e.g., 1000 Hz)\n",
    "    # target_rate = 2000  # Hz\n",
    "    # start_time = cleaned_data['Timestamp'].iloc[0]\n",
    "    # end_time = cleaned_data['Timestamp'].iloc[-1]\n",
    "    # uniform_time = np.arange(start_time, end_time, 1 / target_rate)\n",
    "    # # Interpolate both channels to the new time grid\n",
    "    # resampled_data = pd.DataFrame({\n",
    "    #     'Timestamp': uniform_time,\n",
    "    #     })\n",
    "    # for i in range(num_channels):\n",
    "    #     resampled_data[\"Channel{}\".format(i+1)] = np.interp(uniform_time, cleaned_data[\"Timestamp\"], cleaned_data[\"Channel{}\".format(i+1)])\n",
    "    # # Still misses the Action columns...\n",
    "\n",
    "\n",
    "    for i in range(num_channels): # nb of channels\n",
    "        channel = cleaned_data[\"Channel{}\".format(i+1)]\n",
    "\n",
    "        # # Normalize the channel\n",
    "        # channel = (channel - np.mean(channel))/np.std(channel)\n",
    "\n",
    "        # Remove DC offset\n",
    "        channel = (channel - np.mean(channel))\n",
    "\n",
    "        # Filter 50Hz noise using a Hampel filter\n",
    "        channel = hampel_filter(channel)\n",
    "\n",
    "        cleaned_data[\"Channel{}\".format(i+1)] = channel\n",
    "    \n",
    "    return cleaned_data"
   ]
  },
  {
   "cell_type": "code",
   "execution_count": null,
   "id": "022cc43c",
   "metadata": {},
   "outputs": [],
   "source": [
    "for file in f_names:\n",
    "    raw_data = pd.read_csv(raw_data_path + file)\n",
    "    cleaned_data = clean_data(raw_data)\n",
    "    print(cleaned_data.head())\n",
    "    # break\n",
    "    cleaned_data.to_csv(processed_data_path + \"cleaned_\" + file, index=False)"
   ]
  },
  {
   "cell_type": "code",
   "execution_count": null,
   "id": "6314e7cf",
   "metadata": {},
   "outputs": [],
   "source": [
    "start_id = cleaned_data[(cleaned_data[\"Action1\"] == \"Rest\") & (cleaned_data[\"Action2\"] == \"Fist\")].index[0]\n",
    "end_id = cleaned_data[(cleaned_data[\"Action1\"] == \"Fist\") & (cleaned_data[\"Action2\"] == \"Rest\")].index[-1]\n",
    "window_df = cleaned_data.loc[start_id:end_id]\n",
    "\n",
    "# plt.figure(figsize=(12, 4))\n",
    "# plt.plot(window_df['Timestamp'], window_df['Channel1'], label='Channel1')\n",
    "# plt.plot(window_df['Timestamp'], window_df['Channel2'], label='Channel2')\n",
    "# plt.title(\"First 'Fist' Action Window\")\n",
    "# plt.xlabel(\"Time (s)\")\n",
    "# plt.ylabel(\"Signal\")\n",
    "# plt.legend()\n",
    "# plt.grid()\n",
    "# plt.tight_layout()\n",
    "# plt.show()\n",
    "\n",
    "fig, ax = plt.subplots(2, figsize=(12, 6), constrained_layout=True, sharex=True, sharey=True)\n",
    "ax = ax.ravel()\n",
    "\n",
    "#2 EMG channels\n",
    "for channel_idx in range(2): \n",
    "    ax[channel_idx].plot(window_df['Timestamp'], window_df['Channel{}'.format(channel_idx+1)])\n",
    "    ax[channel_idx].set_title(f\"Channel {channel_idx+1}\")\n",
    "plt.suptitle(\"Rectified EMG signal for restimulus 1\")"
   ]
  },
  {
   "cell_type": "code",
   "execution_count": null,
   "id": "625b7362",
   "metadata": {},
   "outputs": [],
   "source": []
  }
 ],
 "metadata": {
  "kernelspec": {
   "display_name": "npulse_emg-decoding",
   "language": "python",
   "name": "python3"
  },
  "language_info": {
   "codemirror_mode": {
    "name": "ipython",
    "version": 3
   },
   "file_extension": ".py",
   "mimetype": "text/x-python",
   "name": "python",
   "nbconvert_exporter": "python",
   "pygments_lexer": "ipython3",
   "version": "3.10.16"
  }
 },
 "nbformat": 4,
 "nbformat_minor": 5
}
